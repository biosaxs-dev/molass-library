{
 "cells": [
  {
   "cell_type": "code",
   "execution_count": null,
   "id": "87617fe8",
   "metadata": {},
   "outputs": [],
   "source": [
    "import os\n",
    "import sys\n",
    "sys.path.insert(0, os.path.abspath(r'..\\..'))\n",
    "sys.path.insert(1, os.path.abspath(r'..\\..\\..\\molass-legacy'))\n",
    "from molass import get_version as molass_version\n",
    "from molass_legacy import get_version as legacy_version\n",
    "assert molass_version(toml_only=True) >= '0.7.2', \"Molass version is lower than 0.7.2\"\n",
    "assert legacy_version(toml_only=True) >= '0.3.2', \"Legacy version is lower than 0.3.2\""
   ]
  },
  {
   "cell_type": "code",
   "execution_count": null,
   "id": "b6fff088",
   "metadata": {},
   "outputs": [],
   "source": [
    "from molass.Global.Options import set_molass_options\n",
    "set_molass_options(flowchange='auto')\n",
    "from molass_data import SAMPLE1\n",
    "from molass.DataObjects import SecSaxsData as SSD"
   ]
  },
  {
   "cell_type": "code",
   "execution_count": null,
   "id": "fbd779f8",
   "metadata": {
    "vscode": {
     "languageId": "javascript"
    }
   },
   "outputs": [],
   "source": [
    "ssd = SSD(SAMPLE1)\n",
    "trimmed_ssd = ssd.trimmed_copy()\n",
    "trimmed_ssd.set_baseline_method(('linear', 'uvdiff'))\n",
    "corrected_ssd = trimmed_ssd.corrected_copy()\n",
    "corrected_ssd.plot_compact(baseline=True);"
   ]
  },
  {
   "cell_type": "code",
   "execution_count": null,
   "id": "c49740bb",
   "metadata": {},
   "outputs": [],
   "source": [
    "decomposition = corrected_ssd.quick_decomposition(num_components=3)\n",
    "pairedranges = decomposition.get_pairedranges(area_ratio=0.7,debug=True)\n",
    "plot1 = decomposition.plot_components(title=\"Decomposition of Sample1 with Rg Curve and Paired Ranges\",\n",
    "                                      pairedranges=pairedranges)"
   ]
  },
  {
   "cell_type": "code",
   "execution_count": null,
   "id": "8a8a81b9",
   "metadata": {},
   "outputs": [],
   "source": [
    "target_i = None    # only for debug output\n",
    "if target_i is None:\n",
    "    row_dict = {}\n",
    "else:\n",
    "    assert row_dict != {}, \"row_dict must be populated for target_i debugging\"\n",
    "print(\"row_dict=\", row_dict)\n",
    "def v1_lrf_report_debug_util(decomposition, pairedranges):\n",
    "    from importlib import reload\n",
    "    from molass.Logging.Utils import setup_notebook_logging\n",
    "    from molass.Backward.SerialDataProxy import SerialDataProxy\n",
    "    from molass.Backward.PreviewParams import make_preview_params\n",
    "    import molass.Backward.ConcTracker\n",
    "    reload(molass.Backward.ConcTracker)\n",
    "    from molass.Backward.ConcTracker import ConcTracker\n",
    "    from molass_legacy._MOLASS.SerialSettings import set_setting\n",
    "    from molass_legacy.LRF.ConcMatrix import ConcMatrix\n",
    "    from molass_legacy.Extrapolation.PeakSetSelector import PeakSetSelector\n",
    "    logger = setup_notebook_logging()\n",
    "    ssd = decomposition.ssd\n",
    "    mapping  = ssd.get_mapping()\n",
    "    sd = SerialDataProxy(ssd, decomposition.mapped_curve)\n",
    "    preview_data, preview_options = make_preview_params(mapping, sd, pairedranges)\n",
    "\n",
    "    conc_factor = ssd.get_concfactor()\n",
    "    concentration_datatype = 2\n",
    "    conc_tracker = ConcTracker(decomposition, conc_factor, concentration_datatype,\n",
    "                               jupyter=True, debug=True)\n",
    "    ecurve = preview_data.mapper.x_curve\n",
    "    selector = PeakSetSelector(preview_data.cnv_ranges, ecurve, debug=False)\n",
    "\n",
    "    conc = None\n",
    "    conc_depend = 2\n",
    "    lrf_rank = conc_depend      # determined later so as to be consistent with xr_ranks in decomposition\n",
    "    set_setting('concentration_datatype', concentration_datatype)    # referenced in ConcMatrix\n",
    "    \n",
    "    logger.info(\"pairedranges=%s\", pairedranges)\n",
    "\n",
    "    row = 0\n",
    "    for i, pr in enumerate(pairedranges):\n",
    "        if target_i is not None and i != target_i:\n",
    "            logger.info(f\"Skipping Paired Range {i+1}: {pr}\")\n",
    "            continue\n",
    "        logger.info(f\"Processing Paired Range {i+1}: {pr}\")\n",
    "        for j, (start, end) in enumerate(pr.get_fromto_list()):\n",
    "            stop = end + 1\n",
    "            logger.info(f\"  Range {j+1}: {start} - {end}\")\n",
    "            row_ = row if target_i is None else row_dict[(target_i, j)]\n",
    "            peakset_info = selector.select_peakset(row_)\n",
    "            pno, nth, peakset, known_peak_info = peakset_info\n",
    "            logger.info(\"%s peakset=%s\", (i,j), peakset)\n",
    "            paired_ranges_ = [pairedranges[k] for k in peakset]\n",
    "            logger.info(\"%s In the peakset, paired_ranges_=%s\", (i,j), paired_ranges_)\n",
    "            x = ecurve.x[start:stop]\n",
    "            cmatrix = ConcMatrix(x, conc,\n",
    "                                 conc_depend=conc_depend,\n",
    "                                 conc_factor=conc_factor,\n",
    "                                 paired_ranges=paired_ranges_)\n",
    "            C_ = cmatrix.data\n",
    "            conc_tracker.add_concentration(start, stop, C_, conc_dependence=lrf_rank)\n",
    "            if target_i is None:\n",
    "                row_dict[(i, j)] = row\n",
    "            row += 1\n",
    "        \n",
    "    conc_tracker.plot()\n",
    "\n",
    "v1_lrf_report_debug_util(decomposition, pairedranges)"
   ]
  }
 ],
 "metadata": {
  "kernelspec": {
   "display_name": "Python 3",
   "language": "python",
   "name": "python3"
  },
  "language_info": {
   "codemirror_mode": {
    "name": "ipython",
    "version": 3
   },
   "file_extension": ".py",
   "mimetype": "text/x-python",
   "name": "python",
   "nbconvert_exporter": "python",
   "pygments_lexer": "ipython3",
   "version": "3.12.10"
  }
 },
 "nbformat": 4,
 "nbformat_minor": 5
}
