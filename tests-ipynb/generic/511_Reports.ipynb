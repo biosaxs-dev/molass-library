{
 "cells": [
  {
   "cell_type": "code",
   "execution_count": null,
   "id": "87617fe8",
   "metadata": {},
   "outputs": [],
   "source": [
    "import os\n",
    "import sys\n",
    "sys.path.insert(0, os.path.abspath(r'..\\..'))\n",
    "sys.path.insert(1, os.path.abspath(r'..\\..\\..\\molass-legacy'))\n",
    "from molass import get_version as molass_version\n",
    "from molass_legacy import get_version as legacy_version\n",
    "assert molass_version(toml_only=True) >= '0.7.2', \"Molass version is lower than 0.7.2\"\n",
    "assert legacy_version(toml_only=True) >= '0.3.2', \"Legacy version is lower than 0.3.2\""
   ]
  },
  {
   "cell_type": "code",
   "execution_count": null,
   "id": "b6fff088",
   "metadata": {},
   "outputs": [],
   "source": [
    "from molass.Global.Options import set_molass_options\n",
    "set_molass_options(flowchange='auto')\n",
    "from molass_data import SAMPLE1\n",
    "from molass.DataObjects import SecSaxsData as SSD"
   ]
  },
  {
   "cell_type": "code",
   "execution_count": null,
   "id": "fbd779f8",
   "metadata": {
    "vscode": {
     "languageId": "javascript"
    }
   },
   "outputs": [],
   "source": [
    "ssd = SSD(SAMPLE1)\n",
    "trimmed_ssd = ssd.trimmed_copy()\n",
    "trimmed_ssd.set_baseline_method(('linear', 'uvdiff'))\n",
    "corrected_ssd = trimmed_ssd.corrected_copy()\n",
    "corrected_ssd.plot_compact(baseline=True);"
   ]
  },
  {
   "cell_type": "code",
   "execution_count": null,
   "id": "c49740bb",
   "metadata": {},
   "outputs": [],
   "source": [
    "decomposition = corrected_ssd.quick_decomposition(num_components=3)\n",
    "pairedranges = decomposition.get_pairedranges(area_ratio=0.7,debug=True)\n",
    "plot1 = decomposition.plot_components(title=\"Decomposition of Sample1 with Rg Curve and Paired Ranges\",\n",
    "                                      pairedranges=pairedranges)"
   ]
  },
  {
   "cell_type": "code",
   "execution_count": null,
   "id": "b417978f",
   "metadata": {},
   "outputs": [],
   "source": [
    "decomposition_debug = corrected_ssd.quick_decomposition(proportions=[0.42, 0.1, 0.48], debug=False)\n",
    "pairedranges_debug = decomposition_debug.get_pairedranges(area_ratio=0.7,debug=False)\n",
    "plot2 = decomposition_debug.plot_components(title=\"Decomposition of Sample1 with Rg Curve and Paired Ranges (Debug Mode)\",\n",
    "                                      pairedranges=pairedranges_debug)"
   ]
  },
  {
   "cell_type": "code",
   "execution_count": null,
   "id": "55f14c15",
   "metadata": {},
   "outputs": [],
   "source": [
    "from importlib import reload\n",
    "import molass_legacy.Extrapolation.PeakSetSelector\n",
    "reload(molass_legacy.Extrapolation.PeakSetSelector)\n",
    "from molass_legacy.Extrapolation.PeakSetSelector import PeakSetSelector\n",
    "xr_icurve = corrected_ssd.xr.get_icurve()\n",
    "selector = PeakSetSelector(pairedranges_debug, ecurve=xr_icurve, debug=True, legacy=False)"
   ]
  },
  {
   "cell_type": "code",
   "execution_count": null,
   "id": "8a8a81b9",
   "metadata": {},
   "outputs": [],
   "source": [
    "def v1_lrf_report_debug_util(decomposition, pairedranges):\n",
    "    from molass.Logging.Utils import setup_notebook_logging\n",
    "    from molass.Backward.ConcTracker import ConcTracker\n",
    "    logger = setup_notebook_logging()\n",
    "    ssd = decomposition.ssd\n",
    "    conc_factor = ssd.get_concfactor()\n",
    "    concentration_datatype = 2\n",
    "    conc_tracker = ConcTracker(decomposition_debug, conc_factor, concentration_datatype,\n",
    "                               jupyter=True, debug=True)\n",
    "v1_lrf_report_debug_util(decomposition_debug, pairedranges_debug)"
   ]
  }
 ],
 "metadata": {
  "kernelspec": {
   "display_name": "Python 3",
   "language": "python",
   "name": "python3"
  },
  "language_info": {
   "codemirror_mode": {
    "name": "ipython",
    "version": 3
   },
   "file_extension": ".py",
   "mimetype": "text/x-python",
   "name": "python",
   "nbconvert_exporter": "python",
   "pygments_lexer": "ipython3",
   "version": "3.12.10"
  }
 },
 "nbformat": 4,
 "nbformat_minor": 5
}
